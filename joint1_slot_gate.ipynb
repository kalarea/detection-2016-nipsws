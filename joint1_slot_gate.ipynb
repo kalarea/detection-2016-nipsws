{
  "nbformat": 4,
  "nbformat_minor": 0,
  "metadata": {
    "colab": {
      "name": "joint1.ipynb",
      "provenance": [],
      "collapsed_sections": [],
      "machine_shape": "hm",
      "mount_file_id": "1YqRWSjMEoLCRGbeHZBPAu9QH6S1ZtRfM",
      "authorship_tag": "ABX9TyOgbcSMXOVSnhGZA5M76fz0",
      "include_colab_link": true
    },
    "kernelspec": {
      "name": "python3",
      "display_name": "Python 3"
    },
    "accelerator": "GPU",
    "widgets": {
      "application/vnd.jupyter.widget-state+json": {
        "6595997e1cc74ae094a33747813a63f7": {
          "model_module": "@jupyter-widgets/controls",
          "model_name": "HBoxModel",
          "state": {
            "_view_name": "HBoxView",
            "_dom_classes": [],
            "_model_name": "HBoxModel",
            "_view_module": "@jupyter-widgets/controls",
            "_model_module_version": "1.5.0",
            "_view_count": null,
            "_view_module_version": "1.5.0",
            "box_style": "",
            "layout": "IPY_MODEL_db62411cb6334ab98d974538f8a3e677",
            "_model_module": "@jupyter-widgets/controls",
            "children": [
              "IPY_MODEL_0f6cae380ffa47f8aaac19a224b7fd2f",
              "IPY_MODEL_b1675a8afd304b5c81daf9080e2f51fe"
            ]
          }
        },
        "db62411cb6334ab98d974538f8a3e677": {
          "model_module": "@jupyter-widgets/base",
          "model_name": "LayoutModel",
          "state": {
            "_view_name": "LayoutView",
            "grid_template_rows": null,
            "right": null,
            "justify_content": null,
            "_view_module": "@jupyter-widgets/base",
            "overflow": null,
            "_model_module_version": "1.2.0",
            "_view_count": null,
            "flex_flow": null,
            "width": null,
            "min_width": null,
            "border": null,
            "align_items": null,
            "bottom": null,
            "_model_module": "@jupyter-widgets/base",
            "top": null,
            "grid_column": null,
            "overflow_y": null,
            "overflow_x": null,
            "grid_auto_flow": null,
            "grid_area": null,
            "grid_template_columns": null,
            "flex": null,
            "_model_name": "LayoutModel",
            "justify_items": null,
            "grid_row": null,
            "max_height": null,
            "align_content": null,
            "visibility": null,
            "align_self": null,
            "height": null,
            "min_height": null,
            "padding": null,
            "grid_auto_rows": null,
            "grid_gap": null,
            "max_width": null,
            "order": null,
            "_view_module_version": "1.2.0",
            "grid_template_areas": null,
            "object_position": null,
            "object_fit": null,
            "grid_auto_columns": null,
            "margin": null,
            "display": null,
            "left": null
          }
        },
        "0f6cae380ffa47f8aaac19a224b7fd2f": {
          "model_module": "@jupyter-widgets/controls",
          "model_name": "IntProgressModel",
          "state": {
            "_view_name": "ProgressView",
            "style": "IPY_MODEL_77eeaab048044d29a3359d0242c284e8",
            "_dom_classes": [],
            "description": "Downloading: 100%",
            "_model_name": "IntProgressModel",
            "bar_style": "success",
            "max": 109540,
            "_view_module": "@jupyter-widgets/controls",
            "_model_module_version": "1.5.0",
            "value": 109540,
            "_view_count": null,
            "_view_module_version": "1.5.0",
            "orientation": "horizontal",
            "min": 0,
            "description_tooltip": null,
            "_model_module": "@jupyter-widgets/controls",
            "layout": "IPY_MODEL_e3d384e1bd084aa49a323899afbcba70"
          }
        },
        "b1675a8afd304b5c81daf9080e2f51fe": {
          "model_module": "@jupyter-widgets/controls",
          "model_name": "HTMLModel",
          "state": {
            "_view_name": "HTMLView",
            "style": "IPY_MODEL_c78a76e085b84859b918eca45b4a14b9",
            "_dom_classes": [],
            "description": "",
            "_model_name": "HTMLModel",
            "placeholder": "​",
            "_view_module": "@jupyter-widgets/controls",
            "_model_module_version": "1.5.0",
            "value": " 110k/110k [00:00&lt;00:00, 196kB/s]",
            "_view_count": null,
            "_view_module_version": "1.5.0",
            "description_tooltip": null,
            "_model_module": "@jupyter-widgets/controls",
            "layout": "IPY_MODEL_c0e06826d7074c01884b0c4bae3fb727"
          }
        },
        "77eeaab048044d29a3359d0242c284e8": {
          "model_module": "@jupyter-widgets/controls",
          "model_name": "ProgressStyleModel",
          "state": {
            "_view_name": "StyleView",
            "_model_name": "ProgressStyleModel",
            "description_width": "initial",
            "_view_module": "@jupyter-widgets/base",
            "_model_module_version": "1.5.0",
            "_view_count": null,
            "_view_module_version": "1.2.0",
            "bar_color": null,
            "_model_module": "@jupyter-widgets/controls"
          }
        },
        "e3d384e1bd084aa49a323899afbcba70": {
          "model_module": "@jupyter-widgets/base",
          "model_name": "LayoutModel",
          "state": {
            "_view_name": "LayoutView",
            "grid_template_rows": null,
            "right": null,
            "justify_content": null,
            "_view_module": "@jupyter-widgets/base",
            "overflow": null,
            "_model_module_version": "1.2.0",
            "_view_count": null,
            "flex_flow": null,
            "width": null,
            "min_width": null,
            "border": null,
            "align_items": null,
            "bottom": null,
            "_model_module": "@jupyter-widgets/base",
            "top": null,
            "grid_column": null,
            "overflow_y": null,
            "overflow_x": null,
            "grid_auto_flow": null,
            "grid_area": null,
            "grid_template_columns": null,
            "flex": null,
            "_model_name": "LayoutModel",
            "justify_items": null,
            "grid_row": null,
            "max_height": null,
            "align_content": null,
            "visibility": null,
            "align_self": null,
            "height": null,
            "min_height": null,
            "padding": null,
            "grid_auto_rows": null,
            "grid_gap": null,
            "max_width": null,
            "order": null,
            "_view_module_version": "1.2.0",
            "grid_template_areas": null,
            "object_position": null,
            "object_fit": null,
            "grid_auto_columns": null,
            "margin": null,
            "display": null,
            "left": null
          }
        },
        "c78a76e085b84859b918eca45b4a14b9": {
          "model_module": "@jupyter-widgets/controls",
          "model_name": "DescriptionStyleModel",
          "state": {
            "_view_name": "StyleView",
            "_model_name": "DescriptionStyleModel",
            "description_width": "",
            "_view_module": "@jupyter-widgets/base",
            "_model_module_version": "1.5.0",
            "_view_count": null,
            "_view_module_version": "1.2.0",
            "_model_module": "@jupyter-widgets/controls"
          }
        },
        "c0e06826d7074c01884b0c4bae3fb727": {
          "model_module": "@jupyter-widgets/base",
          "model_name": "LayoutModel",
          "state": {
            "_view_name": "LayoutView",
            "grid_template_rows": null,
            "right": null,
            "justify_content": null,
            "_view_module": "@jupyter-widgets/base",
            "overflow": null,
            "_model_module_version": "1.2.0",
            "_view_count": null,
            "flex_flow": null,
            "width": null,
            "min_width": null,
            "border": null,
            "align_items": null,
            "bottom": null,
            "_model_module": "@jupyter-widgets/base",
            "top": null,
            "grid_column": null,
            "overflow_y": null,
            "overflow_x": null,
            "grid_auto_flow": null,
            "grid_area": null,
            "grid_template_columns": null,
            "flex": null,
            "_model_name": "LayoutModel",
            "justify_items": null,
            "grid_row": null,
            "max_height": null,
            "align_content": null,
            "visibility": null,
            "align_self": null,
            "height": null,
            "min_height": null,
            "padding": null,
            "grid_auto_rows": null,
            "grid_gap": null,
            "max_width": null,
            "order": null,
            "_view_module_version": "1.2.0",
            "grid_template_areas": null,
            "object_position": null,
            "object_fit": null,
            "grid_auto_columns": null,
            "margin": null,
            "display": null,
            "left": null
          }
        },
        "7f24c69f995441878939db2743397e54": {
          "model_module": "@jupyter-widgets/controls",
          "model_name": "HBoxModel",
          "state": {
            "_view_name": "HBoxView",
            "_dom_classes": [],
            "_model_name": "HBoxModel",
            "_view_module": "@jupyter-widgets/controls",
            "_model_module_version": "1.5.0",
            "_view_count": null,
            "_view_module_version": "1.5.0",
            "box_style": "",
            "layout": "IPY_MODEL_5d3db55ab45546b2b67d570981877dfb",
            "_model_module": "@jupyter-widgets/controls",
            "children": [
              "IPY_MODEL_2eac73ee59a442a2b770ed11a571dea2",
              "IPY_MODEL_c14e5c5bbd2e450aaaa1a94cab9e30b8"
            ]
          }
        },
        "5d3db55ab45546b2b67d570981877dfb": {
          "model_module": "@jupyter-widgets/base",
          "model_name": "LayoutModel",
          "state": {
            "_view_name": "LayoutView",
            "grid_template_rows": null,
            "right": null,
            "justify_content": null,
            "_view_module": "@jupyter-widgets/base",
            "overflow": null,
            "_model_module_version": "1.2.0",
            "_view_count": null,
            "flex_flow": null,
            "width": null,
            "min_width": null,
            "border": null,
            "align_items": null,
            "bottom": null,
            "_model_module": "@jupyter-widgets/base",
            "top": null,
            "grid_column": null,
            "overflow_y": null,
            "overflow_x": null,
            "grid_auto_flow": null,
            "grid_area": null,
            "grid_template_columns": null,
            "flex": null,
            "_model_name": "LayoutModel",
            "justify_items": null,
            "grid_row": null,
            "max_height": null,
            "align_content": null,
            "visibility": null,
            "align_self": null,
            "height": null,
            "min_height": null,
            "padding": null,
            "grid_auto_rows": null,
            "grid_gap": null,
            "max_width": null,
            "order": null,
            "_view_module_version": "1.2.0",
            "grid_template_areas": null,
            "object_position": null,
            "object_fit": null,
            "grid_auto_columns": null,
            "margin": null,
            "display": null,
            "left": null
          }
        },
        "2eac73ee59a442a2b770ed11a571dea2": {
          "model_module": "@jupyter-widgets/controls",
          "model_name": "IntProgressModel",
          "state": {
            "_view_name": "ProgressView",
            "style": "IPY_MODEL_af3f6d26cab44fcf902748b69e6bc1b2",
            "_dom_classes": [],
            "description": "Downloading: 100%",
            "_model_name": "IntProgressModel",
            "bar_style": "success",
            "max": 568,
            "_view_module": "@jupyter-widgets/controls",
            "_model_module_version": "1.5.0",
            "value": 568,
            "_view_count": null,
            "_view_module_version": "1.5.0",
            "orientation": "horizontal",
            "min": 0,
            "description_tooltip": null,
            "_model_module": "@jupyter-widgets/controls",
            "layout": "IPY_MODEL_a6413bbf1b6a4d969c642baab5960f2f"
          }
        },
        "c14e5c5bbd2e450aaaa1a94cab9e30b8": {
          "model_module": "@jupyter-widgets/controls",
          "model_name": "HTMLModel",
          "state": {
            "_view_name": "HTMLView",
            "style": "IPY_MODEL_ba78afd2482f4851a5e642d6a724906b",
            "_dom_classes": [],
            "description": "",
            "_model_name": "HTMLModel",
            "placeholder": "​",
            "_view_module": "@jupyter-widgets/controls",
            "_model_module_version": "1.5.0",
            "value": " 568/568 [00:35&lt;00:00, 15.9B/s]",
            "_view_count": null,
            "_view_module_version": "1.5.0",
            "description_tooltip": null,
            "_model_module": "@jupyter-widgets/controls",
            "layout": "IPY_MODEL_956d6301e9944f19895d2141df645801"
          }
        },
        "af3f6d26cab44fcf902748b69e6bc1b2": {
          "model_module": "@jupyter-widgets/controls",
          "model_name": "ProgressStyleModel",
          "state": {
            "_view_name": "StyleView",
            "_model_name": "ProgressStyleModel",
            "description_width": "initial",
            "_view_module": "@jupyter-widgets/base",
            "_model_module_version": "1.5.0",
            "_view_count": null,
            "_view_module_version": "1.2.0",
            "bar_color": null,
            "_model_module": "@jupyter-widgets/controls"
          }
        },
        "a6413bbf1b6a4d969c642baab5960f2f": {
          "model_module": "@jupyter-widgets/base",
          "model_name": "LayoutModel",
          "state": {
            "_view_name": "LayoutView",
            "grid_template_rows": null,
            "right": null,
            "justify_content": null,
            "_view_module": "@jupyter-widgets/base",
            "overflow": null,
            "_model_module_version": "1.2.0",
            "_view_count": null,
            "flex_flow": null,
            "width": null,
            "min_width": null,
            "border": null,
            "align_items": null,
            "bottom": null,
            "_model_module": "@jupyter-widgets/base",
            "top": null,
            "grid_column": null,
            "overflow_y": null,
            "overflow_x": null,
            "grid_auto_flow": null,
            "grid_area": null,
            "grid_template_columns": null,
            "flex": null,
            "_model_name": "LayoutModel",
            "justify_items": null,
            "grid_row": null,
            "max_height": null,
            "align_content": null,
            "visibility": null,
            "align_self": null,
            "height": null,
            "min_height": null,
            "padding": null,
            "grid_auto_rows": null,
            "grid_gap": null,
            "max_width": null,
            "order": null,
            "_view_module_version": "1.2.0",
            "grid_template_areas": null,
            "object_position": null,
            "object_fit": null,
            "grid_auto_columns": null,
            "margin": null,
            "display": null,
            "left": null
          }
        },
        "ba78afd2482f4851a5e642d6a724906b": {
          "model_module": "@jupyter-widgets/controls",
          "model_name": "DescriptionStyleModel",
          "state": {
            "_view_name": "StyleView",
            "_model_name": "DescriptionStyleModel",
            "description_width": "",
            "_view_module": "@jupyter-widgets/base",
            "_model_module_version": "1.5.0",
            "_view_count": null,
            "_view_module_version": "1.2.0",
            "_model_module": "@jupyter-widgets/controls"
          }
        },
        "956d6301e9944f19895d2141df645801": {
          "model_module": "@jupyter-widgets/base",
          "model_name": "LayoutModel",
          "state": {
            "_view_name": "LayoutView",
            "grid_template_rows": null,
            "right": null,
            "justify_content": null,
            "_view_module": "@jupyter-widgets/base",
            "overflow": null,
            "_model_module_version": "1.2.0",
            "_view_count": null,
            "flex_flow": null,
            "width": null,
            "min_width": null,
            "border": null,
            "align_items": null,
            "bottom": null,
            "_model_module": "@jupyter-widgets/base",
            "top": null,
            "grid_column": null,
            "overflow_y": null,
            "overflow_x": null,
            "grid_auto_flow": null,
            "grid_area": null,
            "grid_template_columns": null,
            "flex": null,
            "_model_name": "LayoutModel",
            "justify_items": null,
            "grid_row": null,
            "max_height": null,
            "align_content": null,
            "visibility": null,
            "align_self": null,
            "height": null,
            "min_height": null,
            "padding": null,
            "grid_auto_rows": null,
            "grid_gap": null,
            "max_width": null,
            "order": null,
            "_view_module_version": "1.2.0",
            "grid_template_areas": null,
            "object_position": null,
            "object_fit": null,
            "grid_auto_columns": null,
            "margin": null,
            "display": null,
            "left": null
          }
        },
        "af2c10f3b9204ca18a47e08b531915e5": {
          "model_module": "@jupyter-widgets/controls",
          "model_name": "HBoxModel",
          "state": {
            "_view_name": "HBoxView",
            "_dom_classes": [],
            "_model_name": "HBoxModel",
            "_view_module": "@jupyter-widgets/controls",
            "_model_module_version": "1.5.0",
            "_view_count": null,
            "_view_module_version": "1.5.0",
            "box_style": "",
            "layout": "IPY_MODEL_abca44ee21de44a9b76c0d042668112b",
            "_model_module": "@jupyter-widgets/controls",
            "children": [
              "IPY_MODEL_d2ffebf628ee4e4caaeaf48a47d1a299",
              "IPY_MODEL_46168dac93fc49caa5fc92e9873b83c3"
            ]
          }
        },
        "abca44ee21de44a9b76c0d042668112b": {
          "model_module": "@jupyter-widgets/base",
          "model_name": "LayoutModel",
          "state": {
            "_view_name": "LayoutView",
            "grid_template_rows": null,
            "right": null,
            "justify_content": null,
            "_view_module": "@jupyter-widgets/base",
            "overflow": null,
            "_model_module_version": "1.2.0",
            "_view_count": null,
            "flex_flow": null,
            "width": null,
            "min_width": null,
            "border": null,
            "align_items": null,
            "bottom": null,
            "_model_module": "@jupyter-widgets/base",
            "top": null,
            "grid_column": null,
            "overflow_y": null,
            "overflow_x": null,
            "grid_auto_flow": null,
            "grid_area": null,
            "grid_template_columns": null,
            "flex": null,
            "_model_name": "LayoutModel",
            "justify_items": null,
            "grid_row": null,
            "max_height": null,
            "align_content": null,
            "visibility": null,
            "align_self": null,
            "height": null,
            "min_height": null,
            "padding": null,
            "grid_auto_rows": null,
            "grid_gap": null,
            "max_width": null,
            "order": null,
            "_view_module_version": "1.2.0",
            "grid_template_areas": null,
            "object_position": null,
            "object_fit": null,
            "grid_auto_columns": null,
            "margin": null,
            "display": null,
            "left": null
          }
        },
        "d2ffebf628ee4e4caaeaf48a47d1a299": {
          "model_module": "@jupyter-widgets/controls",
          "model_name": "IntProgressModel",
          "state": {
            "_view_name": "ProgressView",
            "style": "IPY_MODEL_c271e5944a99428da182faf747ec12e0",
            "_dom_classes": [],
            "description": "Downloading: 100%",
            "_model_name": "IntProgressModel",
            "bar_style": "success",
            "max": 411577189,
            "_view_module": "@jupyter-widgets/controls",
            "_model_module_version": "1.5.0",
            "value": 411577189,
            "_view_count": null,
            "_view_module_version": "1.5.0",
            "orientation": "horizontal",
            "min": 0,
            "description_tooltip": null,
            "_model_module": "@jupyter-widgets/controls",
            "layout": "IPY_MODEL_9c97b30eb25740a3a93d4aa5e101a572"
          }
        },
        "46168dac93fc49caa5fc92e9873b83c3": {
          "model_module": "@jupyter-widgets/controls",
          "model_name": "HTMLModel",
          "state": {
            "_view_name": "HTMLView",
            "style": "IPY_MODEL_6be017b4b9e142949d95f399cc351541",
            "_dom_classes": [],
            "description": "",
            "_model_name": "HTMLModel",
            "placeholder": "​",
            "_view_module": "@jupyter-widgets/controls",
            "_model_module_version": "1.5.0",
            "value": " 412M/412M [00:34&lt;00:00, 12.0MB/s]",
            "_view_count": null,
            "_view_module_version": "1.5.0",
            "description_tooltip": null,
            "_model_module": "@jupyter-widgets/controls",
            "layout": "IPY_MODEL_bbf0255cffe14114b49ca5116e9deea6"
          }
        },
        "c271e5944a99428da182faf747ec12e0": {
          "model_module": "@jupyter-widgets/controls",
          "model_name": "ProgressStyleModel",
          "state": {
            "_view_name": "StyleView",
            "_model_name": "ProgressStyleModel",
            "description_width": "initial",
            "_view_module": "@jupyter-widgets/base",
            "_model_module_version": "1.5.0",
            "_view_count": null,
            "_view_module_version": "1.2.0",
            "bar_color": null,
            "_model_module": "@jupyter-widgets/controls"
          }
        },
        "9c97b30eb25740a3a93d4aa5e101a572": {
          "model_module": "@jupyter-widgets/base",
          "model_name": "LayoutModel",
          "state": {
            "_view_name": "LayoutView",
            "grid_template_rows": null,
            "right": null,
            "justify_content": null,
            "_view_module": "@jupyter-widgets/base",
            "overflow": null,
            "_model_module_version": "1.2.0",
            "_view_count": null,
            "flex_flow": null,
            "width": null,
            "min_width": null,
            "border": null,
            "align_items": null,
            "bottom": null,
            "_model_module": "@jupyter-widgets/base",
            "top": null,
            "grid_column": null,
            "overflow_y": null,
            "overflow_x": null,
            "grid_auto_flow": null,
            "grid_area": null,
            "grid_template_columns": null,
            "flex": null,
            "_model_name": "LayoutModel",
            "justify_items": null,
            "grid_row": null,
            "max_height": null,
            "align_content": null,
            "visibility": null,
            "align_self": null,
            "height": null,
            "min_height": null,
            "padding": null,
            "grid_auto_rows": null,
            "grid_gap": null,
            "max_width": null,
            "order": null,
            "_view_module_version": "1.2.0",
            "grid_template_areas": null,
            "object_position": null,
            "object_fit": null,
            "grid_auto_columns": null,
            "margin": null,
            "display": null,
            "left": null
          }
        },
        "6be017b4b9e142949d95f399cc351541": {
          "model_module": "@jupyter-widgets/controls",
          "model_name": "DescriptionStyleModel",
          "state": {
            "_view_name": "StyleView",
            "_model_name": "DescriptionStyleModel",
            "description_width": "",
            "_view_module": "@jupyter-widgets/base",
            "_model_module_version": "1.5.0",
            "_view_count": null,
            "_view_module_version": "1.2.0",
            "_model_module": "@jupyter-widgets/controls"
          }
        },
        "bbf0255cffe14114b49ca5116e9deea6": {
          "model_module": "@jupyter-widgets/base",
          "model_name": "LayoutModel",
          "state": {
            "_view_name": "LayoutView",
            "grid_template_rows": null,
            "right": null,
            "justify_content": null,
            "_view_module": "@jupyter-widgets/base",
            "overflow": null,
            "_model_module_version": "1.2.0",
            "_view_count": null,
            "flex_flow": null,
            "width": null,
            "min_width": null,
            "border": null,
            "align_items": null,
            "bottom": null,
            "_model_module": "@jupyter-widgets/base",
            "top": null,
            "grid_column": null,
            "overflow_y": null,
            "overflow_x": null,
            "grid_auto_flow": null,
            "grid_area": null,
            "grid_template_columns": null,
            "flex": null,
            "_model_name": "LayoutModel",
            "justify_items": null,
            "grid_row": null,
            "max_height": null,
            "align_content": null,
            "visibility": null,
            "align_self": null,
            "height": null,
            "min_height": null,
            "padding": null,
            "grid_auto_rows": null,
            "grid_gap": null,
            "max_width": null,
            "order": null,
            "_view_module_version": "1.2.0",
            "grid_template_areas": null,
            "object_position": null,
            "object_fit": null,
            "grid_auto_columns": null,
            "margin": null,
            "display": null,
            "left": null
          }
        }
      }
    }
  },
  "cells": [
    {
      "cell_type": "markdown",
      "metadata": {
        "id": "view-in-github",
        "colab_type": "text"
      },
      "source": [
        "<a href=\"https://colab.research.google.com/github/kalarea/detection-2016-nipsws/blob/master/joint1_slot_gate.ipynb\" target=\"_parent\"><img src=\"https://colab.research.google.com/assets/colab-badge.svg\" alt=\"Open In Colab\"/></a>"
      ]
    },
    {
      "cell_type": "markdown",
      "metadata": {
        "id": "jLXbBEdVZqBf",
        "colab_type": "text"
      },
      "source": [
        "[class]对应的分类,然后其他token直接接softmax"
      ]
    },
    {
      "cell_type": "code",
      "metadata": {
        "id": "lJXw3N_lhdpX",
        "colab_type": "code",
        "outputId": "2f013c23-99dc-4b94-92df-0b7cc19f0a61",
        "colab": {
          "base_uri": "https://localhost:8080/",
          "height": 655
        }
      },
      "source": [
        "!pip install transformers"
      ],
      "execution_count": 0,
      "outputs": [
        {
          "output_type": "stream",
          "text": [
            "Collecting transformers\n",
            "\u001b[?25l  Downloading https://files.pythonhosted.org/packages/a3/78/92cedda05552398352ed9784908b834ee32a0bd071a9b32de287327370b7/transformers-2.8.0-py3-none-any.whl (563kB)\n",
            "\u001b[K     |████████████████████████████████| 573kB 1.4MB/s \n",
            "\u001b[?25hRequirement already satisfied: boto3 in /usr/local/lib/python3.6/dist-packages (from transformers) (1.12.34)\n",
            "Collecting sentencepiece\n",
            "\u001b[?25l  Downloading https://files.pythonhosted.org/packages/74/f4/2d5214cbf13d06e7cb2c20d84115ca25b53ea76fa1f0ade0e3c9749de214/sentencepiece-0.1.85-cp36-cp36m-manylinux1_x86_64.whl (1.0MB)\n",
            "\u001b[K     |████████████████████████████████| 1.0MB 6.6MB/s \n",
            "\u001b[?25hRequirement already satisfied: tqdm>=4.27 in /usr/local/lib/python3.6/dist-packages (from transformers) (4.38.0)\n",
            "Requirement already satisfied: regex!=2019.12.17 in /usr/local/lib/python3.6/dist-packages (from transformers) (2019.12.20)\n",
            "Requirement already satisfied: dataclasses; python_version < \"3.7\" in /usr/local/lib/python3.6/dist-packages (from transformers) (0.7)\n",
            "Requirement already satisfied: numpy in /usr/local/lib/python3.6/dist-packages (from transformers) (1.18.2)\n",
            "Collecting sacremoses\n",
            "\u001b[?25l  Downloading https://files.pythonhosted.org/packages/a6/b4/7a41d630547a4afd58143597d5a49e07bfd4c42914d8335b2a5657efc14b/sacremoses-0.0.38.tar.gz (860kB)\n",
            "\u001b[K     |████████████████████████████████| 870kB 8.9MB/s \n",
            "\u001b[?25hCollecting tokenizers==0.5.2\n",
            "\u001b[?25l  Downloading https://files.pythonhosted.org/packages/d1/3f/73c881ea4723e43c1e9acf317cf407fab3a278daab3a69c98dcac511c04f/tokenizers-0.5.2-cp36-cp36m-manylinux1_x86_64.whl (3.7MB)\n",
            "\u001b[K     |████████████████████████████████| 3.7MB 9.0MB/s \n",
            "\u001b[?25hRequirement already satisfied: requests in /usr/local/lib/python3.6/dist-packages (from transformers) (2.21.0)\n",
            "Requirement already satisfied: filelock in /usr/local/lib/python3.6/dist-packages (from transformers) (3.0.12)\n",
            "Requirement already satisfied: botocore<1.16.0,>=1.15.34 in /usr/local/lib/python3.6/dist-packages (from boto3->transformers) (1.15.34)\n",
            "Requirement already satisfied: jmespath<1.0.0,>=0.7.1 in /usr/local/lib/python3.6/dist-packages (from boto3->transformers) (0.9.5)\n",
            "Requirement already satisfied: s3transfer<0.4.0,>=0.3.0 in /usr/local/lib/python3.6/dist-packages (from boto3->transformers) (0.3.3)\n",
            "Requirement already satisfied: six in /usr/local/lib/python3.6/dist-packages (from sacremoses->transformers) (1.12.0)\n",
            "Requirement already satisfied: click in /usr/local/lib/python3.6/dist-packages (from sacremoses->transformers) (7.1.1)\n",
            "Requirement already satisfied: joblib in /usr/local/lib/python3.6/dist-packages (from sacremoses->transformers) (0.14.1)\n",
            "Requirement already satisfied: idna<2.9,>=2.5 in /usr/local/lib/python3.6/dist-packages (from requests->transformers) (2.8)\n",
            "Requirement already satisfied: urllib3<1.25,>=1.21.1 in /usr/local/lib/python3.6/dist-packages (from requests->transformers) (1.24.3)\n",
            "Requirement already satisfied: certifi>=2017.4.17 in /usr/local/lib/python3.6/dist-packages (from requests->transformers) (2019.11.28)\n",
            "Requirement already satisfied: chardet<3.1.0,>=3.0.2 in /usr/local/lib/python3.6/dist-packages (from requests->transformers) (3.0.4)\n",
            "Requirement already satisfied: docutils<0.16,>=0.10 in /usr/local/lib/python3.6/dist-packages (from botocore<1.16.0,>=1.15.34->boto3->transformers) (0.15.2)\n",
            "Requirement already satisfied: python-dateutil<3.0.0,>=2.1 in /usr/local/lib/python3.6/dist-packages (from botocore<1.16.0,>=1.15.34->boto3->transformers) (2.8.1)\n",
            "Building wheels for collected packages: sacremoses\n",
            "  Building wheel for sacremoses (setup.py) ... \u001b[?25l\u001b[?25hdone\n",
            "  Created wheel for sacremoses: filename=sacremoses-0.0.38-cp36-none-any.whl size=884628 sha256=b767231084d78921c2297a7e0e121e974feaf22cb6786722b535207a2b6a32e3\n",
            "  Stored in directory: /root/.cache/pip/wheels/6d/ec/1a/21b8912e35e02741306f35f66c785f3afe94de754a0eaf1422\n",
            "Successfully built sacremoses\n",
            "Installing collected packages: sentencepiece, sacremoses, tokenizers, transformers\n",
            "Successfully installed sacremoses-0.0.38 sentencepiece-0.1.85 tokenizers-0.5.2 transformers-2.8.0\n"
          ],
          "name": "stdout"
        }
      ]
    },
    {
      "cell_type": "code",
      "metadata": {
        "id": "GfyoR-laZ4At",
        "colab_type": "code",
        "colab": {}
      },
      "source": [
        "#tag和标签管理\n",
        "BIO_TAG = {\n",
        "    \"检查项目\":'INS',\n",
        "    \"科室\":'DEP',\n",
        "    \"疾病\":'DIS',\n",
        "    \"药品\":'DRU',\n",
        "    \"食物\":'FOO',\n",
        "    \"症状\":'SYM',\n",
        "    \"发病部位\":'PAR',\n",
        "    \"治疗方法\":'MET',\n",
        "    \"发病人群\":'NUM'\n",
        "}\n",
        "\n",
        "BIO2ID = {\n",
        "    'B-INS': 0,\n",
        "    'I-INS': 1,\n",
        "    'B-DEP': 2,\n",
        "    'I-DEP': 3,\n",
        "    'B-DIS': 4,\n",
        "    'I-DIS': 5,\n",
        "    'B-DRU': 6,\n",
        "    'I-DRU': 7,\n",
        "    'B-FOO': 8,\n",
        "    'I-FOO': 9,\n",
        "    'B-SYM': 10,\n",
        "    'I-SYM': 11,\n",
        "    'B-PAR': 12,\n",
        "    'I-PAR': 13,\n",
        "    'B-MET': 14,\n",
        "    'I-MET': 15,\n",
        "    'B-NUM': 16,\n",
        "    'I-NUM': 17,\n",
        "    'O': 18\n",
        "}\n",
        "\n",
        "CLASSIFY_TAG = {\n",
        "    '疾病->并发症':1,\n",
        "    '疾病->所属科室':2,\n",
        "    '疾病->药品':3,\n",
        "    '疾病->食物(宜吃)':4,\n",
        "    '疾病->食物(忌吃)':5,\n",
        "    '疾病->症状':6,\n",
        "    '疾病->简介':7,\n",
        "    '疾病->发病部位':8,\n",
        "    '疾病->病因':9,\n",
        "    '疾病->预防措施':10,\n",
        "    '疾病->治疗周期':11,\n",
        "    '疾病->治疗方法':12,\n",
        "    '疾病->治愈概率':13,\n",
        "    '疾病->易感人群':14,\n",
        "    '疾病->检查项目':15,\n",
        "    '疾病->别名':16,\n",
        "    '疾病->是否医保':17,\n",
        "    '疾病->是否传染':18,\n",
        "    '疾病->费用':19,\n",
        "    '症状-(疾病)-科室':20,\n",
        "    '症状-(疾病)-药物':21,\n",
        "    '症状-(疾病)-食物(宜)':22,\n",
        "    '症状-(疾病)-食物(忌)':23,\n",
        "    '症状-(疾病)-检查项目':24,\n",
        "    '疾病->食物(综合)':25,\n",
        "    '症状-(疾病)-食物(综合)':26,\n",
        "    '症状-(疾病)-治疗方法':27,\n",
        "    '不支持':0\n",
        "}\n",
        "\n",
        "ID2BIO = {j:i for i,j in BIO2ID.items()}\n",
        "ID2CLASS = {j:i for i,j in CLASSIFY_TAG.items()}"
      ],
      "execution_count": 0,
      "outputs": []
    },
    {
      "cell_type": "code",
      "metadata": {
        "id": "VOUw0488akbj",
        "colab_type": "code",
        "colab": {}
      },
      "source": [
        "#载入数据，\n",
        "'''\n",
        "  数据格式为：\n",
        "  {\"id\": 2, \"text\": \"一岁半宝宝的食谱\",\n",
        "   \"ner_annotations\": [{\"label\": \"发病人群\", \"start_offset\": 0, \"end_offset\": 5}], \n",
        "   \"classify_annotations\": [{\"label\": \"不支持\"}]}\n",
        "'''\n",
        "data_dict_list = []\n",
        "import json\n",
        "with open(\"/content/drive/My Drive/medical_ner_classification/data/medicalData/data_set.jsonl\",\"r\",encoding=\"utf-8\") as f:\n",
        "  while True:\n",
        "    line = f.readline()\n",
        "    if(line ==''): break\n",
        "    line_json = json.loads(line)\n",
        "    data_dict_list.append(line_json)"
      ],
      "execution_count": 0,
      "outputs": []
    },
    {
      "cell_type": "code",
      "metadata": {
        "id": "We09NafoavwQ",
        "colab_type": "code",
        "outputId": "e10803c7-d41c-4152-ed9c-93d1a8e805fb",
        "colab": {
          "base_uri": "https://localhost:8080/",
          "height": 34
        }
      },
      "source": [
        "len(data_dict_list)"
      ],
      "execution_count": 0,
      "outputs": [
        {
          "output_type": "execute_result",
          "data": {
            "text/plain": [
              "12045"
            ]
          },
          "metadata": {
            "tags": []
          },
          "execution_count": 4
        }
      ]
    },
    {
      "cell_type": "code",
      "metadata": {
        "id": "oCGCQd9YazPX",
        "colab_type": "code",
        "outputId": "72783ff2-a727-49b6-d7d9-88c491d99811",
        "colab": {
          "base_uri": "https://localhost:8080/",
          "height": 34
        }
      },
      "source": [
        "#对data_dict_list进行切分为train,dev,test\n",
        "import random\n",
        "\n",
        "train_rate = 0.8\n",
        "dev_rate = 0.1\n",
        "test_rate = 0.1\n",
        "\n",
        "random.seed(1)\n",
        "data_len = len(data_dict_list)\n",
        "print(\"总共有%d条数据\"%(data_len))\n",
        "random_list = [i for i in range(len(data_dict_list))]\n",
        "random.shuffle(random_list)\n",
        "\n",
        "train_indexs = random_list[0:int(train_rate*data_len)]\n",
        "dev_indexs = random_list[int(train_rate*data_len):int(train_rate*data_len + dev_rate*data_len)]\n",
        "test_indexs = random_list[int(train_rate*data_len + dev_rate*data_len):]\n",
        "assert len(train_indexs)+len(dev_indexs)+len(test_indexs)==data_len"
      ],
      "execution_count": 0,
      "outputs": [
        {
          "output_type": "stream",
          "text": [
            "总共有12045条数据\n"
          ],
          "name": "stdout"
        }
      ]
    },
    {
      "cell_type": "code",
      "metadata": {
        "id": "bNi1sTVXa2yp",
        "colab_type": "code",
        "colab": {}
      },
      "source": [
        "train_dict_list = [data_dict_list[i] for i in train_indexs]\n",
        "dev_dict_list = [data_dict_list[i] for i in dev_indexs]\n",
        "test_dict_list = [data_dict_list[i] for i in test_indexs]"
      ],
      "execution_count": 0,
      "outputs": []
    },
    {
      "cell_type": "code",
      "metadata": {
        "id": "MrCbzF0ta43a",
        "colab_type": "code",
        "colab": {}
      },
      "source": [
        "#构建数据集\n",
        "from torch.utils.data import Dataset\n",
        "import random\n",
        "class Dict_Dataset(Dataset):\n",
        "  def __init__(self, data_dict_list, tansformer_function, seed = 1):\n",
        "    self.data_dict_list = data_dict_list\n",
        "    self.len = len(self.data_dict_list)\n",
        "    self.transformer = tansformer_function\n",
        "    self.point = 0    #指向下一个被读取的数据\n",
        "    random.seed(seed)\n",
        "\n",
        "  def __getitem__(self,index):\n",
        "    return self.transformer(self.data_dict_list[index])\n",
        "  \n",
        "  def __len__(self):\n",
        "    return self.len\n",
        "  \n",
        "  def set_len(self,len):\n",
        "    self.len=len\n",
        "  \n",
        "  def reset_len(self):\n",
        "    self.len=len(self.data_dict_list)\n",
        "\n",
        "  def shuffle(self):\n",
        "    random.shuffle(self.data_dict_list)\n",
        "  \n",
        "  def reset(self):\n",
        "    self.point = 0\n",
        "  \n",
        "  def has_next(self):\n",
        "    if(self.point>=self.len): return False\n",
        "    else: return True\n",
        "  \n",
        "  def get_batch(self,batch_size):\n",
        "    num = 0\n",
        "    input_ids = []\n",
        "    attention_mask = []\n",
        "    token_type_ids = []\n",
        "    loss_mask = []\n",
        "    ner_tags = []\n",
        "    ner_labels = []\n",
        "    class_labels = []\n",
        "    sequence_lens = [] #用于lstm输入前pack\n",
        "    #input_ids, attention_mask, token_type_ids, loss_mask, ner_tags, ner_labels, class_labels\n",
        "    while(num<batch_size and self.has_next()):\n",
        "      curr_input_ids, curr_attention_mask, curr_token_type_ids, curr_loss_mask, curr_ner_tags, curr_ner_labels, curr_class_label,\\\n",
        "       curr_sequence_len = self.__getitem__(self.point)\n",
        "      self.point += 1\n",
        "      num += 1\n",
        "      input_ids.append(curr_input_ids)\n",
        "      attention_mask.append(curr_attention_mask)\n",
        "      token_type_ids.append(curr_token_type_ids)\n",
        "      loss_mask.append(curr_loss_mask)\n",
        "      ner_tags.append(curr_ner_tags)\n",
        "      ner_labels.append(curr_ner_labels)\n",
        "      class_labels.append(curr_class_label)\n",
        "      sequence_lens.append(curr_sequence_len)\n",
        "    return input_ids, attention_mask, token_type_ids, loss_mask, ner_tags, ner_labels, class_labels, sequence_lens"
      ],
      "execution_count": 0,
      "outputs": []
    },
    {
      "cell_type": "code",
      "metadata": {
        "id": "rLj-dpnJa9Xl",
        "colab_type": "code",
        "colab": {}
      },
      "source": [
        "#转化器，将字典形式的数据转化为要求的形式\n",
        "def transformer_dict_to_tensor(max_len,tokenizer,BIO_TAG,BIO2ID):\n",
        "  '''\n",
        "    json_dict形如：\n",
        "    {\"id\": 2, \"text\": \"一岁半宝宝的食谱\",\n",
        "   \"ner_annotations\": [{\"label\": \"发病人群\", \"start_offset\": 0, \"end_offset\": 5}], \n",
        "   \"classify_annotations\": [{\"label\": \"不支持\"}]}\n",
        "  '''\n",
        "  max_len = max_len\n",
        "  tokenizer = tokenizer\n",
        "  BIO_TAG = BIO_TAG\n",
        "  BIO2ID = BIO2ID\n",
        "\n",
        "  def transformer(json_dict):\n",
        "    text = json_dict['text']\n",
        "    encode = tokenizer.encode_plus(list(text), max_length=max_len, return_token_type_ids=True, return_attention_mask=True, pad_to_max_length=True)\n",
        "    input_ids = encode['input_ids']     #\n",
        "    attention_mask = encode['attention_mask']    #\n",
        "    token_type_ids = encode['token_type_ids']   #\n",
        "    loss_mask = [0 for i in range(max_len)]   #ner loss mask\n",
        "    loss_mask[1:1+len(text)] = [1 for i in range(len(text))]\n",
        "    ner_tags = ['O' for i in range(max_len)] \n",
        "    for i in json_dict['ner_annotations']:\n",
        "      label = i['label']\n",
        "      start_offset = i['start_offset']\n",
        "      end_offset = i['end_offset']\n",
        "      ner_tags[1+start_offset] = 'B-'+BIO_TAG[label]\n",
        "      for j in range(start_offset+1, end_offset):\n",
        "        ner_tags[1+j] = 'I-'+BIO_TAG[label]     #\n",
        "    ner_labels = [BIO2ID[k] for k in ner_tags]    #\n",
        "    ner_tags = ner_tags[1:1+len(text)]\n",
        "    class_label = CLASSIFY_TAG[json_dict['classify_annotations'][0]['label']]   #\n",
        "    sequence_len = len(text)\n",
        "    return input_ids, attention_mask, token_type_ids, loss_mask, ner_tags, ner_labels, class_label, sequence_len\n",
        "  return transformer"
      ],
      "execution_count": 0,
      "outputs": []
    },
    {
      "cell_type": "code",
      "metadata": {
        "id": "Lm8oIbnwbBbA",
        "colab_type": "code",
        "colab": {}
      },
      "source": [
        "test_data = {\"id\": 2, \"text\": \"一岁半宝宝的食谱\",\n",
        "   \"ner_annotations\": [{\"label\": \"发病人群\", \"start_offset\": 0, \"end_offset\": 5}], \n",
        "   \"classify_annotations\": [{\"label\": \"不支持\"}]}"
      ],
      "execution_count": 0,
      "outputs": []
    },
    {
      "cell_type": "code",
      "metadata": {
        "id": "YVGszjuubOv8",
        "colab_type": "code",
        "outputId": "73fdfe01-88f9-433b-ec57-1810c6a0dc70",
        "colab": {
          "base_uri": "https://localhost:8080/",
          "height": 66,
          "referenced_widgets": [
            "6595997e1cc74ae094a33747813a63f7",
            "db62411cb6334ab98d974538f8a3e677",
            "0f6cae380ffa47f8aaac19a224b7fd2f",
            "b1675a8afd304b5c81daf9080e2f51fe",
            "77eeaab048044d29a3359d0242c284e8",
            "e3d384e1bd084aa49a323899afbcba70",
            "c78a76e085b84859b918eca45b4a14b9",
            "c0e06826d7074c01884b0c4bae3fb727"
          ]
        }
      },
      "source": [
        "max_len=81\n",
        "from transformers import BertTokenizer\n",
        "tokenizer = BertTokenizer.from_pretrained(\"bert-base-chinese\")\n",
        "transformer = transformer_dict_to_tensor(max_len,tokenizer,BIO_TAG,BIO2ID)"
      ],
      "execution_count": 0,
      "outputs": [
        {
          "output_type": "display_data",
          "data": {
            "application/vnd.jupyter.widget-view+json": {
              "model_id": "6595997e1cc74ae094a33747813a63f7",
              "version_minor": 0,
              "version_major": 2
            },
            "text/plain": [
              "HBox(children=(IntProgress(value=0, description='Downloading', max=109540, style=ProgressStyle(description_wid…"
            ]
          },
          "metadata": {
            "tags": []
          }
        },
        {
          "output_type": "stream",
          "text": [
            "\n"
          ],
          "name": "stdout"
        }
      ]
    },
    {
      "cell_type": "code",
      "metadata": {
        "id": "8QeRgS19h4xB",
        "colab_type": "code",
        "colab": {}
      },
      "source": [
        "# input_ids, attention_mask, token_type_ids, loss_mask, ner_tags, ner_labels, class_label, sequence_len = transformer(test_data)"
      ],
      "execution_count": 0,
      "outputs": []
    },
    {
      "cell_type": "code",
      "metadata": {
        "id": "iLtNVqN6iAP-",
        "colab_type": "code",
        "colab": {}
      },
      "source": [
        "# list(zip(tokenizer.convert_ids_to_tokens(input_ids),attention_mask,token_type_ids,loss_mask,ner_tags, ner_labels))"
      ],
      "execution_count": 0,
      "outputs": []
    },
    {
      "cell_type": "code",
      "metadata": {
        "id": "WUThSGVplup2",
        "colab_type": "code",
        "colab": {}
      },
      "source": [
        "train_data_set = Dict_Dataset(train_dict_list, transformer, seed = 1)\n",
        "dev_data_set = Dict_Dataset(dev_dict_list, transformer, seed = 1)\n",
        "test_data_set = Dict_Dataset(test_dict_list, transformer, seed = 1)"
      ],
      "execution_count": 0,
      "outputs": []
    },
    {
      "cell_type": "code",
      "metadata": {
        "id": "hEW6GVpkmNgy",
        "colab_type": "code",
        "colab": {}
      },
      "source": [
        "data = train_data_set.get_batch(2)"
      ],
      "execution_count": 0,
      "outputs": []
    },
    {
      "cell_type": "code",
      "metadata": {
        "id": "tOa_F1wEmTdH",
        "colab_type": "code",
        "colab": {}
      },
      "source": [
        "input_ids, attention_mask, token_type_ids, loss_mask, ner_tags, ner_labels, class_label, sequence_len = data"
      ],
      "execution_count": 0,
      "outputs": []
    },
    {
      "cell_type": "code",
      "metadata": {
        "id": "GYWAeJk9mzHp",
        "colab_type": "code",
        "outputId": "42910e6c-efc7-4286-c7b3-c828cd9094a6",
        "colab": {
          "base_uri": "https://localhost:8080/",
          "height": 252
        }
      },
      "source": [
        "list(zip(tokenizer.convert_ids_to_tokens(input_ids[0]),attention_mask[0],token_type_ids[0],loss_mask[0],ner_tags[0],ner_labels[0]))"
      ],
      "execution_count": 0,
      "outputs": [
        {
          "output_type": "execute_result",
          "data": {
            "text/plain": [
              "[('[CLS]', 1, 0, 0, 'O', 18),\n",
              " ('我', 1, 0, 1, 'O', 18),\n",
              " ('患', 1, 0, 1, 'O', 18),\n",
              " ('有', 1, 0, 1, 'B-DIS', 18),\n",
              " ('松', 1, 0, 1, 'I-DIS', 4),\n",
              " ('弛', 1, 0, 1, 'I-DIS', 5),\n",
              " ('型', 1, 0, 1, 'I-DIS', 5),\n",
              " ('盆', 1, 0, 1, 'I-DIS', 5),\n",
              " ('底', 1, 0, 1, 'I-DIS', 5),\n",
              " ('功', 1, 0, 1, 'I-DIS', 5),\n",
              " ('能', 1, 0, 1, 'I-DIS', 5),\n",
              " ('障', 1, 0, 1, 'I-DIS', 5),\n",
              " ('碍', 1, 0, 1, 'O', 5),\n",
              " ('1', 1, 0, 1, 'O', 18)]"
            ]
          },
          "metadata": {
            "tags": []
          },
          "execution_count": 16
        }
      ]
    },
    {
      "cell_type": "code",
      "metadata": {
        "id": "qAOKwCXenfLY",
        "colab_type": "code",
        "outputId": "d1d11ead-2423-4a22-e1f5-63bce9bfb2df",
        "colab": {
          "base_uri": "https://localhost:8080/",
          "height": 34
        }
      },
      "source": [
        "class_label"
      ],
      "execution_count": 0,
      "outputs": [
        {
          "output_type": "execute_result",
          "data": {
            "text/plain": [
              "[0, 9]"
            ]
          },
          "metadata": {
            "tags": []
          },
          "execution_count": 17
        }
      ]
    },
    {
      "cell_type": "code",
      "metadata": {
        "id": "ba-IJwCUnh33",
        "colab_type": "code",
        "outputId": "a9336254-d7ba-47d4-d4af-1883385ac3e6",
        "colab": {
          "base_uri": "https://localhost:8080/",
          "height": 34
        }
      },
      "source": [
        "sequence_len"
      ],
      "execution_count": 0,
      "outputs": [
        {
          "output_type": "execute_result",
          "data": {
            "text/plain": [
              "[14, 10]"
            ]
          },
          "metadata": {
            "tags": []
          },
          "execution_count": 18
        }
      ]
    },
    {
      "cell_type": "code",
      "metadata": {
        "id": "aoA85WkSnpOJ",
        "colab_type": "code",
        "colab": {}
      },
      "source": [
        "from torch import nn\n",
        "from transformers import BertModel\n",
        "from torch.nn import CrossEntropyLoss"
      ],
      "execution_count": 0,
      "outputs": []
    },
    {
      "cell_type": "code",
      "metadata": {
        "id": "s9yMFLC0pMie",
        "colab_type": "code",
        "colab": {}
      },
      "source": [
        "class Config(object):\n",
        "  def __init__(self):\n",
        "    self.pretrained_bert_name = None\n",
        "    self.class_label_num = None\n",
        "    self.ner_tag_num = None\n",
        "  def describe(self):\n",
        "    attribute_dict = self.__dict__\n",
        "    for key, value in attribute_dict.items():\n",
        "      print(key + \" is \"+str(value))"
      ],
      "execution_count": 0,
      "outputs": []
    },
    {
      "cell_type": "code",
      "metadata": {
        "id": "QaqWv1Zunjuo",
        "colab_type": "code",
        "colab": {}
      },
      "source": [
        "class BertJointNerClassify(nn.Module):\n",
        "  def __init__(self, config):\n",
        "    super(BertJointNerClassify,self).__init__()\n",
        "    self.config = config\n",
        "    self.bert = BertModel.from_pretrained(config.pretrained_bert_name)\n",
        "    self.classify = nn.Linear(in_features=self.bert.config.hidden_size, out_features=config.class_label_num, bias=True)\n",
        "    self.emission = nn.Linear(in_features=self.bert.config.hidden_size, out_features=config.ner_tag_num, bias=True)\n",
        "  def forward(self,input_ids, attention_mask, token_type_ids, loss_mask, ner_labels=None, class_labels=None):\n",
        "    bert_out, _ = self.bert(input_ids=input_ids, attention_mask=attention_mask, token_type_ids=token_type_ids)#(batch_size,seq_len,bert.config.hidden_size)\n",
        "    classify_out = self.classify(bert_out[:,0,:]) #(batch_size,1,class_label_num)\n",
        "    classify_out = classify_out.squeeze(-2) #(batch_size,class_label_num)\n",
        "    emission_out = self.emission(bert_out)  #(batch_size,seq_len,ner_label_num)\n",
        "    if ner_labels is not None:\n",
        "      loss_fct = CrossEntropyLoss(reduction='none')\n",
        "      ner_loss = loss_fct(emission_out.view(-1,self.config.ner_tag_num),ner_labels.view(-1))\n",
        "      ner_loss = ner_loss * loss_mask.view(-1)\n",
        "      ner_output = ner_loss.sum()/input_ids.shape[0]\n",
        "    else:\n",
        "      ner_output = emission_out.max(dim=-1).indices.tolist() #(batch_size,seq_len)\n",
        "    if class_labels is not None:\n",
        "      loss_fct = CrossEntropyLoss(reduction='sum')\n",
        "      class_loss = loss_fct(classify_out,class_labels)\n",
        "      class_output = class_loss/input_ids.shape[0]\n",
        "    else:\n",
        "      class_output = classify_out.max(dim=-1).indices.tolist() #(bach_size)\n",
        "    return ner_output, class_output"
      ],
      "execution_count": 0,
      "outputs": []
    },
    {
      "cell_type": "code",
      "metadata": {
        "id": "cGMzugRGx7gk",
        "colab_type": "code",
        "colab": {}
      },
      "source": [
        "config1 = Config()"
      ],
      "execution_count": 0,
      "outputs": []
    },
    {
      "cell_type": "code",
      "metadata": {
        "id": "XW8D3BqX3ZoO",
        "colab_type": "code",
        "colab": {}
      },
      "source": [
        "config1.pretrained_bert_name = \"bert-base-chinese\"\n",
        "config1.class_label_num = len(CLASSIFY_TAG)\n",
        "config1.ner_tag_num = len(BIO2ID)"
      ],
      "execution_count": 0,
      "outputs": []
    },
    {
      "cell_type": "code",
      "metadata": {
        "id": "oYKDez4JvszC",
        "colab_type": "code",
        "outputId": "37205cda-cf36-433c-b678-30e2b118423c",
        "colab": {
          "base_uri": "https://localhost:8080/",
          "height": 114,
          "referenced_widgets": [
            "7f24c69f995441878939db2743397e54",
            "5d3db55ab45546b2b67d570981877dfb",
            "2eac73ee59a442a2b770ed11a571dea2",
            "c14e5c5bbd2e450aaaa1a94cab9e30b8",
            "af3f6d26cab44fcf902748b69e6bc1b2",
            "a6413bbf1b6a4d969c642baab5960f2f",
            "ba78afd2482f4851a5e642d6a724906b",
            "956d6301e9944f19895d2141df645801",
            "af2c10f3b9204ca18a47e08b531915e5",
            "abca44ee21de44a9b76c0d042668112b",
            "d2ffebf628ee4e4caaeaf48a47d1a299",
            "46168dac93fc49caa5fc92e9873b83c3",
            "c271e5944a99428da182faf747ec12e0",
            "9c97b30eb25740a3a93d4aa5e101a572",
            "6be017b4b9e142949d95f399cc351541",
            "bbf0255cffe14114b49ca5116e9deea6"
          ]
        }
      },
      "source": [
        "model = BertJointNerClassify(config1)"
      ],
      "execution_count": 0,
      "outputs": [
        {
          "output_type": "display_data",
          "data": {
            "application/vnd.jupyter.widget-view+json": {
              "model_id": "7f24c69f995441878939db2743397e54",
              "version_minor": 0,
              "version_major": 2
            },
            "text/plain": [
              "HBox(children=(IntProgress(value=0, description='Downloading', max=568, style=ProgressStyle(description_width=…"
            ]
          },
          "metadata": {
            "tags": []
          }
        },
        {
          "output_type": "stream",
          "text": [
            "\n"
          ],
          "name": "stdout"
        },
        {
          "output_type": "display_data",
          "data": {
            "application/vnd.jupyter.widget-view+json": {
              "model_id": "af2c10f3b9204ca18a47e08b531915e5",
              "version_minor": 0,
              "version_major": 2
            },
            "text/plain": [
              "HBox(children=(IntProgress(value=0, description='Downloading', max=411577189, style=ProgressStyle(description_…"
            ]
          },
          "metadata": {
            "tags": []
          }
        },
        {
          "output_type": "stream",
          "text": [
            "\n"
          ],
          "name": "stdout"
        }
      ]
    },
    {
      "cell_type": "code",
      "metadata": {
        "id": "JyiVjNIL5Jg1",
        "colab_type": "code",
        "colab": {}
      },
      "source": [
        "# data = train_data_set.get_batch(2)\n",
        "# input_ids, attention_mask, token_type_ids, loss_mask, ner_tags, ner_labels, class_label, sequence_len = data"
      ],
      "execution_count": 0,
      "outputs": []
    },
    {
      "cell_type": "code",
      "metadata": {
        "id": "edqD0daF5Ohe",
        "colab_type": "code",
        "colab": {}
      },
      "source": [
        "# input_ids = torch.tensor(input_ids)\n",
        "# attention_mask = torch.tensor(attention_mask)\n",
        "# token_type_ids = torch.tensor(token_type_ids)\n",
        "# loss_mask = torch.tensor(loss_mask)\n",
        "# ner_labels = torch.tensor(ner_labels)\n",
        "# class_label = torch.tensor(class_label)"
      ],
      "execution_count": 0,
      "outputs": []
    },
    {
      "cell_type": "code",
      "metadata": {
        "id": "2cfUcPRcMrQ5",
        "colab_type": "code",
        "colab": {}
      },
      "source": [
        ""
      ],
      "execution_count": 0,
      "outputs": []
    },
    {
      "cell_type": "code",
      "metadata": {
        "id": "xt5r8Ng159SH",
        "colab_type": "code",
        "colab": {}
      },
      "source": [
        "# input_ids.shape"
      ],
      "execution_count": 0,
      "outputs": []
    },
    {
      "cell_type": "code",
      "metadata": {
        "id": "jo3YS1BM5mxq",
        "colab_type": "code",
        "colab": {}
      },
      "source": [
        "# a,b = model.forward(input_ids=input_ids,attention_mask=attention_mask,token_type_ids=token_type_ids,loss_mask=loss_mask, ner_labels=ner_labels, class_labels=class_label)"
      ],
      "execution_count": 0,
      "outputs": []
    },
    {
      "cell_type": "code",
      "metadata": {
        "id": "IEsj8jv76e1-",
        "colab_type": "code",
        "colab": {}
      },
      "source": [
        "# a,b"
      ],
      "execution_count": 0,
      "outputs": []
    },
    {
      "cell_type": "code",
      "metadata": {
        "id": "KHQp9fozDaMj",
        "colab_type": "code",
        "colab": {}
      },
      "source": [
        "# len(a[0]),len(a[1])"
      ],
      "execution_count": 0,
      "outputs": []
    },
    {
      "cell_type": "code",
      "metadata": {
        "id": "I2_id0llM2uc",
        "colab_type": "code",
        "colab": {}
      },
      "source": [
        "import torch"
      ],
      "execution_count": 0,
      "outputs": []
    },
    {
      "cell_type": "code",
      "metadata": {
        "id": "X7TFSsBwH0-Q",
        "colab_type": "code",
        "colab": {}
      },
      "source": [
        "#定义优化器\n",
        "from torch.optim import Adam\n",
        "param_optimizer = list(model.named_parameters())\n",
        "no_decay = ['bias', 'gamma', 'beta']\n",
        "optimizer_grouped_parameters = [\n",
        "    {'params': [p for n, p in param_optimizer if not any(nd in n for nd in no_decay)],\n",
        "      'weight_decay_rate': 0.01},\n",
        "    {'params': [p for n, p in param_optimizer if any(nd in n for nd in no_decay)],\n",
        "      'weight_decay_rate': 0.0}\n",
        "]\n",
        "optimizer1 = Adam(optimizer_grouped_parameters, lr=1e-5)"
      ],
      "execution_count": 0,
      "outputs": []
    },
    {
      "cell_type": "code",
      "metadata": {
        "id": "xaiK03mxOpx2",
        "colab_type": "code",
        "colab": {}
      },
      "source": [
        "from sklearn.metrics import f1_score\n",
        "import os\n",
        "import sys\n",
        "os.getcwd()\n",
        "sys.path.append(\"/content/drive/My Drive/functions\")\n",
        "from get_ner_fmeasure import get_ner_fmeasure"
      ],
      "execution_count": 0,
      "outputs": []
    },
    {
      "cell_type": "code",
      "metadata": {
        "id": "Q0rKjccNDd1D",
        "colab_type": "code",
        "outputId": "e9e1e422-44c0-46f8-85d2-20e40fd528f8",
        "colab": {
          "base_uri": "https://localhost:8080/",
          "height": 1000
        }
      },
      "source": [
        "#train\n",
        "epoch_num = 100\n",
        "batch_size = 20\n",
        "model.cuda()\n",
        "from tqdm import trange\n",
        "for epoch_i in trange(epoch_num):\n",
        "  total_loss_ner = 0\n",
        "  total_loss_class = 0\n",
        "  model.train()\n",
        "  train_data_set.shuffle()\n",
        "  train_data_set.reset()\n",
        "  num = 0\n",
        "  while train_data_set.has_next():\n",
        "    num+=1\n",
        "    input_ids, attention_mask, token_type_ids, loss_mask, ner_tags, ner_labels, class_label, sequence_len = train_data_set.get_batch(batch_size)\n",
        "    input_ids = torch.tensor(input_ids).cuda()\n",
        "    attention_mask = torch.tensor(attention_mask).cuda()\n",
        "    token_type_ids = torch.tensor(token_type_ids).cuda()\n",
        "    loss_mask = torch.tensor(loss_mask).cuda()\n",
        "    ner_labels = torch.tensor(ner_labels).cuda()\n",
        "    class_label = torch.tensor(class_label).cuda()\n",
        "    ner_output, class_output = model.forward(input_ids=input_ids,attention_mask=attention_mask,token_type_ids=token_type_ids,loss_mask=loss_mask,ner_labels=ner_labels,class_labels=class_label)\n",
        "    total_loss = ner_output+class_output\n",
        "    model.zero_grad()\n",
        "    total_loss.backward()\n",
        "    optimizer1.step()\n",
        "    total_loss_ner += ner_output.item()\n",
        "    total_loss_class += class_output.item()\n",
        "  total_loss_ner = total_loss_ner/num\n",
        "  total_loss_class = total_loss_class/num\n",
        "  #在dev上进行测试\n",
        "  ner_golds = []\n",
        "  ner_predicts = []\n",
        "  class_golds = []\n",
        "  class_predicts = []\n",
        "  with torch.no_grad():\n",
        "    model.eval()\n",
        "    dev_data_set.reset()\n",
        "    while dev_data_set.has_next():\n",
        "      input_ids, attention_mask, token_type_ids, loss_mask, ner_tags, ner_labels, class_label, sequence_len = dev_data_set.get_batch(batch_size=batch_size)\n",
        "      input_ids = torch.tensor(input_ids).cuda()\n",
        "      attention_mask = torch.tensor(attention_mask).cuda()\n",
        "      token_type_ids = torch.tensor(token_type_ids).cuda()\n",
        "      loss_mask = torch.tensor(loss_mask).cuda()\n",
        "      ner_labels = torch.tensor(ner_labels).cuda()\n",
        "      class_label = torch.tensor(class_label).cuda()\n",
        "      ner_output, class_output = model.forward(input_ids=input_ids,attention_mask=attention_mask,token_type_ids=token_type_ids,loss_mask=loss_mask)\n",
        "      #ner_golds, ner_predicts, class_golds, class_predicts\n",
        "      ner_gold = ner_tags\n",
        "      ner_predict = [[ID2BIO[i] for i in ner_output[ii][1:sequence_len[ii]+1]] for ii in range(len(ner_output))]\n",
        "      class_gold = class_label.tolist()\n",
        "      class_predict = class_output\n",
        "      ner_golds += ner_gold\n",
        "      ner_predicts += ner_predict\n",
        "      class_golds += class_gold\n",
        "      class_predicts += class_predict\n",
        "    #计算ner_f1, class_f1  ner_f1为micro average , class_f1为macro average\n",
        "    ner_accuracy, ner_precision, ner_recall, ner_f_measure = get_ner_fmeasure(ner_golds, ner_predicts,label_type=\"BIO\")\n",
        "    class_f1 = f1_score(class_golds,class_predicts,average=\"micro\")\n",
        "    print('epoch %d , total_loss_ner is %.4f, total_loss_class is %.4f, ner_f_measure is %.4f, class_f1 is %.4f '\\\n",
        "          %(epoch_i, total_loss_ner, total_loss_class, ner_f_measure, class_f1))\n",
        "    # if(ner_f_measure>ner_f1_base and class_f1>class_f1_base and (ner_f_measure>ner_f1_max or class_f1 >class_f1_max)): \n",
        "    #   torch.save(model.state_dict(),model_save_path+\"+ner_f1+\"+str(ner_f_measure)+\"+class_f1+\"+str(class_f1)+\"+ner_loss+\"+str(total_loss_ner)+\"+class_loss+\"+str(total_loss_class))"
      ],
      "execution_count": 0,
      "outputs": [
        {
          "output_type": "stream",
          "text": [
            "  1%|          | 1/100 [01:26<2:22:18, 86.24s/it]"
          ],
          "name": "stderr"
        },
        {
          "output_type": "stream",
          "text": [
            "gold_num =  2748  pred_num =  2803  right_num =  1808\n",
            "epoch 0 , total_loss_ner is 11.4760, total_loss_class is 1.5881, ner_f_measure is 0.6514, class_f1 is 0.6952 \n"
          ],
          "name": "stdout"
        },
        {
          "output_type": "stream",
          "text": [
            "\r  2%|▏         | 2/100 [02:52<2:20:45, 86.18s/it]"
          ],
          "name": "stderr"
        },
        {
          "output_type": "stream",
          "text": [
            "gold_num =  2748  pred_num =  2956  right_num =  1954\n",
            "epoch 1 , total_loss_ner is 6.4664, total_loss_class is 0.8432, ner_f_measure is 0.6851, class_f1 is 0.7932 \n"
          ],
          "name": "stdout"
        },
        {
          "output_type": "stream",
          "text": [
            "\r  3%|▎         | 3/100 [04:18<2:19:19, 86.18s/it]"
          ],
          "name": "stderr"
        },
        {
          "output_type": "stream",
          "text": [
            "gold_num =  2748  pred_num =  2804  right_num =  1926\n",
            "epoch 2 , total_loss_ner is 5.3001, total_loss_class is 0.6668, ner_f_measure is 0.6938, class_f1 is 0.8098 \n"
          ],
          "name": "stdout"
        },
        {
          "output_type": "stream",
          "text": [
            "\r  4%|▍         | 4/100 [05:44<2:17:49, 86.14s/it]"
          ],
          "name": "stderr"
        },
        {
          "output_type": "stream",
          "text": [
            "gold_num =  2748  pred_num =  2916  right_num =  1976\n",
            "epoch 3 , total_loss_ner is 4.4233, total_loss_class is 0.5713, ner_f_measure is 0.6977, class_f1 is 0.8181 \n"
          ],
          "name": "stdout"
        },
        {
          "output_type": "stream",
          "text": [
            "\r  5%|▌         | 5/100 [07:10<2:16:19, 86.10s/it]"
          ],
          "name": "stderr"
        },
        {
          "output_type": "stream",
          "text": [
            "gold_num =  2748  pred_num =  2803  right_num =  1950\n",
            "epoch 4 , total_loss_ner is 3.7233, total_loss_class is 0.5114, ner_f_measure is 0.7026, class_f1 is 0.8339 \n"
          ],
          "name": "stdout"
        },
        {
          "output_type": "stream",
          "text": [
            "\r  6%|▌         | 6/100 [08:36<2:14:51, 86.08s/it]"
          ],
          "name": "stderr"
        },
        {
          "output_type": "stream",
          "text": [
            "gold_num =  2748  pred_num =  2933  right_num =  1959\n",
            "epoch 5 , total_loss_ner is 3.0588, total_loss_class is 0.4674, ner_f_measure is 0.6897, class_f1 is 0.8297 \n"
          ],
          "name": "stdout"
        },
        {
          "output_type": "stream",
          "text": [
            "\r  7%|▋         | 7/100 [10:02<2:13:21, 86.03s/it]"
          ],
          "name": "stderr"
        },
        {
          "output_type": "stream",
          "text": [
            "gold_num =  2748  pred_num =  2865  right_num =  1945\n",
            "epoch 6 , total_loss_ner is 2.6214, total_loss_class is 0.4327, ner_f_measure is 0.6930, class_f1 is 0.8272 \n"
          ],
          "name": "stdout"
        },
        {
          "output_type": "stream",
          "text": [
            "\r  8%|▊         | 8/100 [11:28<2:11:53, 86.02s/it]"
          ],
          "name": "stderr"
        },
        {
          "output_type": "stream",
          "text": [
            "gold_num =  2748  pred_num =  2735  right_num =  1897\n",
            "epoch 7 , total_loss_ner is 2.2288, total_loss_class is 0.4063, ner_f_measure is 0.6920, class_f1 is 0.8355 \n"
          ],
          "name": "stdout"
        },
        {
          "output_type": "stream",
          "text": [
            "\r  9%|▉         | 9/100 [12:54<2:10:30, 86.05s/it]"
          ],
          "name": "stderr"
        },
        {
          "output_type": "stream",
          "text": [
            "gold_num =  2748  pred_num =  2857  right_num =  1924\n",
            "epoch 8 , total_loss_ner is 1.9256, total_loss_class is 0.3721, ner_f_measure is 0.6865, class_f1 is 0.8422 \n"
          ],
          "name": "stdout"
        },
        {
          "output_type": "stream",
          "text": [
            "\r 10%|█         | 10/100 [14:20<2:09:11, 86.13s/it]"
          ],
          "name": "stderr"
        },
        {
          "output_type": "stream",
          "text": [
            "gold_num =  2748  pred_num =  2866  right_num =  1937\n",
            "epoch 9 , total_loss_ner is 1.6578, total_loss_class is 0.3453, ner_f_measure is 0.6901, class_f1 is 0.8405 \n"
          ],
          "name": "stdout"
        },
        {
          "output_type": "stream",
          "text": [
            "\r 11%|█         | 11/100 [15:47<2:07:48, 86.16s/it]"
          ],
          "name": "stderr"
        },
        {
          "output_type": "stream",
          "text": [
            "gold_num =  2748  pred_num =  2870  right_num =  1940\n",
            "epoch 10 , total_loss_ner is 1.4062, total_loss_class is 0.3245, ner_f_measure is 0.6906, class_f1 is 0.8364 \n"
          ],
          "name": "stdout"
        },
        {
          "output_type": "stream",
          "text": [
            "\r 12%|█▏        | 12/100 [17:13<2:06:23, 86.17s/it]"
          ],
          "name": "stderr"
        },
        {
          "output_type": "stream",
          "text": [
            "gold_num =  2748  pred_num =  2856  right_num =  1950\n",
            "epoch 11 , total_loss_ner is 1.2210, total_loss_class is 0.2943, ner_f_measure is 0.6959, class_f1 is 0.8488 \n"
          ],
          "name": "stdout"
        },
        {
          "output_type": "stream",
          "text": [
            "\r 13%|█▎        | 13/100 [18:39<2:04:58, 86.19s/it]"
          ],
          "name": "stderr"
        },
        {
          "output_type": "stream",
          "text": [
            "gold_num =  2748  pred_num =  2748  right_num =  1901\n",
            "epoch 12 , total_loss_ner is 1.1111, total_loss_class is 0.2700, ner_f_measure is 0.6918, class_f1 is 0.8347 \n"
          ],
          "name": "stdout"
        },
        {
          "output_type": "stream",
          "text": [
            "\r 14%|█▍        | 14/100 [20:05<2:03:35, 86.22s/it]"
          ],
          "name": "stderr"
        },
        {
          "output_type": "stream",
          "text": [
            "gold_num =  2748  pred_num =  2796  right_num =  1910\n",
            "epoch 13 , total_loss_ner is 0.9855, total_loss_class is 0.2495, ner_f_measure is 0.6890, class_f1 is 0.8380 \n"
          ],
          "name": "stdout"
        },
        {
          "output_type": "stream",
          "text": [
            "\r 15%|█▌        | 15/100 [21:32<2:02:15, 86.30s/it]"
          ],
          "name": "stderr"
        },
        {
          "output_type": "stream",
          "text": [
            "gold_num =  2748  pred_num =  2846  right_num =  1947\n",
            "epoch 14 , total_loss_ner is 0.9065, total_loss_class is 0.2356, ner_f_measure is 0.6961, class_f1 is 0.8347 \n"
          ],
          "name": "stdout"
        },
        {
          "output_type": "stream",
          "text": [
            "\r 16%|█▌        | 16/100 [22:58<2:00:52, 86.34s/it]"
          ],
          "name": "stderr"
        },
        {
          "output_type": "stream",
          "text": [
            "gold_num =  2748  pred_num =  2885  right_num =  1943\n",
            "epoch 15 , total_loss_ner is 0.7772, total_loss_class is 0.2127, ner_f_measure is 0.6899, class_f1 is 0.8380 \n"
          ],
          "name": "stdout"
        },
        {
          "output_type": "stream",
          "text": [
            "\r 17%|█▋        | 17/100 [24:25<1:59:26, 86.34s/it]"
          ],
          "name": "stderr"
        },
        {
          "output_type": "stream",
          "text": [
            "gold_num =  2748  pred_num =  2902  right_num =  1957\n",
            "epoch 16 , total_loss_ner is 0.6922, total_loss_class is 0.1941, ner_f_measure is 0.6927, class_f1 is 0.8422 \n"
          ],
          "name": "stdout"
        },
        {
          "output_type": "stream",
          "text": [
            "\r 18%|█▊        | 18/100 [25:51<1:58:11, 86.49s/it]"
          ],
          "name": "stderr"
        },
        {
          "output_type": "stream",
          "text": [
            "gold_num =  2748  pred_num =  2846  right_num =  1938\n",
            "epoch 17 , total_loss_ner is 0.6663, total_loss_class is 0.1802, ner_f_measure is 0.6929, class_f1 is 0.8505 \n"
          ],
          "name": "stdout"
        },
        {
          "output_type": "stream",
          "text": [
            "\r 19%|█▉        | 19/100 [27:18<1:56:44, 86.48s/it]"
          ],
          "name": "stderr"
        },
        {
          "output_type": "stream",
          "text": [
            "gold_num =  2748  pred_num =  2834  right_num =  1946\n",
            "epoch 18 , total_loss_ner is 0.5897, total_loss_class is 0.1634, ner_f_measure is 0.6972, class_f1 is 0.8405 \n"
          ],
          "name": "stdout"
        },
        {
          "output_type": "stream",
          "text": [
            "\r 20%|██        | 20/100 [28:45<1:55:22, 86.53s/it]"
          ],
          "name": "stderr"
        },
        {
          "output_type": "stream",
          "text": [
            "gold_num =  2748  pred_num =  2844  right_num =  1944\n",
            "epoch 19 , total_loss_ner is 0.5264, total_loss_class is 0.1531, ner_f_measure is 0.6953, class_f1 is 0.8505 \n"
          ],
          "name": "stdout"
        },
        {
          "output_type": "stream",
          "text": [
            "\r 21%|██        | 21/100 [30:11<1:53:53, 86.50s/it]"
          ],
          "name": "stderr"
        },
        {
          "output_type": "stream",
          "text": [
            "gold_num =  2748  pred_num =  2871  right_num =  1941\n",
            "epoch 20 , total_loss_ner is 0.5134, total_loss_class is 0.1314, ner_f_measure is 0.6909, class_f1 is 0.8472 \n"
          ],
          "name": "stdout"
        },
        {
          "output_type": "stream",
          "text": [
            "\r 22%|██▏       | 22/100 [31:38<1:52:31, 86.56s/it]"
          ],
          "name": "stderr"
        },
        {
          "output_type": "stream",
          "text": [
            "gold_num =  2748  pred_num =  2874  right_num =  1953\n",
            "epoch 21 , total_loss_ner is 0.4354, total_loss_class is 0.1221, ner_f_measure is 0.6948, class_f1 is 0.8372 \n"
          ],
          "name": "stdout"
        },
        {
          "output_type": "stream",
          "text": [
            "\r 23%|██▎       | 23/100 [33:04<1:51:04, 86.55s/it]"
          ],
          "name": "stderr"
        },
        {
          "output_type": "stream",
          "text": [
            "gold_num =  2748  pred_num =  2912  right_num =  1961\n",
            "epoch 22 , total_loss_ner is 0.4137, total_loss_class is 0.1077, ner_f_measure is 0.6929, class_f1 is 0.8439 \n"
          ],
          "name": "stdout"
        },
        {
          "output_type": "stream",
          "text": [
            "\r 24%|██▍       | 24/100 [34:31<1:49:40, 86.59s/it]"
          ],
          "name": "stderr"
        },
        {
          "output_type": "stream",
          "text": [
            "gold_num =  2748  pred_num =  2803  right_num =  1930\n",
            "epoch 23 , total_loss_ner is 0.4122, total_loss_class is 0.0977, ner_f_measure is 0.6954, class_f1 is 0.8439 \n"
          ],
          "name": "stdout"
        },
        {
          "output_type": "stream",
          "text": [
            "\r 25%|██▌       | 25/100 [35:58<1:48:17, 86.63s/it]"
          ],
          "name": "stderr"
        },
        {
          "output_type": "stream",
          "text": [
            "gold_num =  2748  pred_num =  2786  right_num =  1903\n",
            "epoch 24 , total_loss_ner is 0.3633, total_loss_class is 0.0951, ner_f_measure is 0.6877, class_f1 is 0.8430 \n"
          ],
          "name": "stdout"
        },
        {
          "output_type": "stream",
          "text": [
            "\r 26%|██▌       | 26/100 [37:24<1:46:50, 86.63s/it]"
          ],
          "name": "stderr"
        },
        {
          "output_type": "stream",
          "text": [
            "gold_num =  2748  pred_num =  2846  right_num =  1926\n",
            "epoch 25 , total_loss_ner is 0.3030, total_loss_class is 0.0840, ner_f_measure is 0.6886, class_f1 is 0.8364 \n"
          ],
          "name": "stdout"
        },
        {
          "output_type": "stream",
          "text": [
            "\r 27%|██▋       | 27/100 [38:51<1:45:22, 86.61s/it]"
          ],
          "name": "stderr"
        },
        {
          "output_type": "stream",
          "text": [
            "gold_num =  2748  pred_num =  2893  right_num =  1947\n",
            "epoch 26 , total_loss_ner is 0.2907, total_loss_class is 0.0816, ner_f_measure is 0.6903, class_f1 is 0.8430 \n"
          ],
          "name": "stdout"
        },
        {
          "output_type": "stream",
          "text": [
            "\r 28%|██▊       | 28/100 [40:17<1:43:51, 86.55s/it]"
          ],
          "name": "stderr"
        },
        {
          "output_type": "stream",
          "text": [
            "gold_num =  2748  pred_num =  2872  right_num =  1959\n",
            "epoch 27 , total_loss_ner is 0.3138, total_loss_class is 0.0711, ner_f_measure is 0.6972, class_f1 is 0.8397 \n"
          ],
          "name": "stdout"
        },
        {
          "output_type": "stream",
          "text": [
            "\r 29%|██▉       | 29/100 [41:44<1:42:21, 86.50s/it]"
          ],
          "name": "stderr"
        },
        {
          "output_type": "stream",
          "text": [
            "gold_num =  2748  pred_num =  2863  right_num =  1947\n",
            "epoch 28 , total_loss_ner is 0.3127, total_loss_class is 0.0627, ner_f_measure is 0.6940, class_f1 is 0.8289 \n"
          ],
          "name": "stdout"
        },
        {
          "output_type": "stream",
          "text": [
            "\r 30%|███       | 30/100 [43:10<1:40:52, 86.47s/it]"
          ],
          "name": "stderr"
        },
        {
          "output_type": "stream",
          "text": [
            "gold_num =  2748  pred_num =  2804  right_num =  1927\n",
            "epoch 29 , total_loss_ner is 0.2852, total_loss_class is 0.0573, ner_f_measure is 0.6942, class_f1 is 0.8472 \n"
          ],
          "name": "stdout"
        },
        {
          "output_type": "stream",
          "text": [
            "\r 31%|███       | 31/100 [44:36<1:39:26, 86.47s/it]"
          ],
          "name": "stderr"
        },
        {
          "output_type": "stream",
          "text": [
            "gold_num =  2748  pred_num =  2818  right_num =  1938\n",
            "epoch 30 , total_loss_ner is 0.2490, total_loss_class is 0.0549, ner_f_measure is 0.6964, class_f1 is 0.8389 \n"
          ],
          "name": "stdout"
        },
        {
          "output_type": "stream",
          "text": [
            "\r 32%|███▏      | 32/100 [46:03<1:37:57, 86.44s/it]"
          ],
          "name": "stderr"
        },
        {
          "output_type": "stream",
          "text": [
            "gold_num =  2748  pred_num =  2823  right_num =  1934\n",
            "epoch 31 , total_loss_ner is 0.2457, total_loss_class is 0.0484, ner_f_measure is 0.6943, class_f1 is 0.8331 \n"
          ],
          "name": "stdout"
        },
        {
          "output_type": "stream",
          "text": [
            "\r 33%|███▎      | 33/100 [47:29<1:36:30, 86.42s/it]"
          ],
          "name": "stderr"
        },
        {
          "output_type": "stream",
          "text": [
            "gold_num =  2748  pred_num =  2837  right_num =  1935\n",
            "epoch 32 , total_loss_ner is 0.2229, total_loss_class is 0.0526, ner_f_measure is 0.6929, class_f1 is 0.8380 \n"
          ],
          "name": "stdout"
        },
        {
          "output_type": "stream",
          "text": [
            "\r 34%|███▍      | 34/100 [48:55<1:35:00, 86.37s/it]"
          ],
          "name": "stderr"
        },
        {
          "output_type": "stream",
          "text": [
            "gold_num =  2748  pred_num =  2836  right_num =  1928\n",
            "epoch 33 , total_loss_ner is 0.2202, total_loss_class is 0.0438, ner_f_measure is 0.6905, class_f1 is 0.8331 \n"
          ],
          "name": "stdout"
        },
        {
          "output_type": "stream",
          "text": [
            "\r 35%|███▌      | 35/100 [50:22<1:33:35, 86.39s/it]"
          ],
          "name": "stderr"
        },
        {
          "output_type": "stream",
          "text": [
            "gold_num =  2748  pred_num =  2791  right_num =  1908\n",
            "epoch 34 , total_loss_ner is 0.1746, total_loss_class is 0.0506, ner_f_measure is 0.6889, class_f1 is 0.8331 \n"
          ],
          "name": "stdout"
        },
        {
          "output_type": "stream",
          "text": [
            "\r 36%|███▌      | 36/100 [51:48<1:32:11, 86.43s/it]"
          ],
          "name": "stderr"
        },
        {
          "output_type": "stream",
          "text": [
            "gold_num =  2748  pred_num =  2800  right_num =  1905\n",
            "epoch 35 , total_loss_ner is 0.2076, total_loss_class is 0.0395, ner_f_measure is 0.6867, class_f1 is 0.8314 \n"
          ],
          "name": "stdout"
        },
        {
          "output_type": "stream",
          "text": [
            "\r 37%|███▋      | 37/100 [53:15<1:30:47, 86.47s/it]"
          ],
          "name": "stderr"
        },
        {
          "output_type": "stream",
          "text": [
            "gold_num =  2748  pred_num =  2923  right_num =  1961\n",
            "epoch 36 , total_loss_ner is 0.2175, total_loss_class is 0.0377, ner_f_measure is 0.6916, class_f1 is 0.8422 \n"
          ],
          "name": "stdout"
        },
        {
          "output_type": "stream",
          "text": [
            "\r 38%|███▊      | 38/100 [54:41<1:29:20, 86.46s/it]"
          ],
          "name": "stderr"
        },
        {
          "output_type": "stream",
          "text": [
            "gold_num =  2748  pred_num =  2909  right_num =  1981\n",
            "epoch 37 , total_loss_ner is 0.1770, total_loss_class is 0.0368, ner_f_measure is 0.7004, class_f1 is 0.8439 \n"
          ],
          "name": "stdout"
        },
        {
          "output_type": "stream",
          "text": [
            "\r 39%|███▉      | 39/100 [56:08<1:27:51, 86.43s/it]"
          ],
          "name": "stderr"
        },
        {
          "output_type": "stream",
          "text": [
            "gold_num =  2748  pred_num =  2877  right_num =  1948\n",
            "epoch 38 , total_loss_ner is 0.1834, total_loss_class is 0.0310, ner_f_measure is 0.6926, class_f1 is 0.8306 \n"
          ],
          "name": "stdout"
        },
        {
          "output_type": "stream",
          "text": [
            "\r 40%|████      | 40/100 [57:34<1:26:23, 86.40s/it]"
          ],
          "name": "stderr"
        },
        {
          "output_type": "stream",
          "text": [
            "gold_num =  2748  pred_num =  2798  right_num =  1905\n",
            "epoch 39 , total_loss_ner is 0.2490, total_loss_class is 0.0360, ner_f_measure is 0.6870, class_f1 is 0.8289 \n"
          ],
          "name": "stdout"
        },
        {
          "output_type": "stream",
          "text": [
            "\r 41%|████      | 41/100 [59:00<1:24:55, 86.36s/it]"
          ],
          "name": "stderr"
        },
        {
          "output_type": "stream",
          "text": [
            "gold_num =  2748  pred_num =  2803  right_num =  1910\n",
            "epoch 40 , total_loss_ner is 0.1978, total_loss_class is 0.0368, ner_f_measure is 0.6882, class_f1 is 0.8364 \n"
          ],
          "name": "stdout"
        }
      ]
    },
    {
      "cell_type": "code",
      "metadata": {
        "id": "fkjXq4mHRqE7",
        "colab_type": "code",
        "colab": {}
      },
      "source": [
        "len(dev_data_set)"
      ],
      "execution_count": 0,
      "outputs": []
    },
    {
      "cell_type": "code",
      "metadata": {
        "id": "pOuB9l4NPNYR",
        "colab_type": "code",
        "colab": {}
      },
      "source": [
        "%debug"
      ],
      "execution_count": 0,
      "outputs": []
    }
  ]
}